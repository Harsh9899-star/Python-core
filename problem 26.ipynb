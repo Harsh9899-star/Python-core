{
 "cells": [
  {
   "cell_type": "markdown",
   "id": "203a1a99",
   "metadata": {},
   "source": [
    "### Define a function which can generate a list where the values are square of numbers between 1 and 20 (both included). Then the function needs to print the last 5 elements in the list. "
   ]
  },
  {
   "cell_type": "code",
   "execution_count": 2,
   "id": "dc1d9e0b",
   "metadata": {},
   "outputs": [
    {
     "name": "stdout",
     "output_type": "stream",
     "text": [
      "[1, 4, 9, 16, 25, 36, 49, 64, 81, 100, 121, 144, 169, 196, 225, 256, 289, 324, 361, 400]\n",
      "[256, 289, 324, 361, 400]\n"
     ]
    }
   ],
   "source": [
    " def g():\n",
    "    a=[]\n",
    "    for i in range(1,21):     \n",
    "        i=i**2\n",
    "        a.append(i)\n",
    "    print(a)\n",
    "    print(a[15:20])\n",
    "g()"
   ]
  },
  {
   "cell_type": "code",
   "execution_count": null,
   "id": "3400774a",
   "metadata": {},
   "outputs": [],
   "source": []
  }
 ],
 "metadata": {
  "kernelspec": {
   "display_name": "Python 3",
   "language": "python",
   "name": "python3"
  },
  "language_info": {
   "codemirror_mode": {
    "name": "ipython",
    "version": 3
   },
   "file_extension": ".py",
   "mimetype": "text/x-python",
   "name": "python",
   "nbconvert_exporter": "python",
   "pygments_lexer": "ipython3",
   "version": "3.8.8"
  }
 },
 "nbformat": 4,
 "nbformat_minor": 5
}
