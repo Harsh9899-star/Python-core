{
 "cells": [
  {
   "cell_type": "markdown",
   "id": "e42b2194",
   "metadata": {},
   "source": [
    "### Define a function that can receive two integral numbers in string form and compute their sum and then print it in console"
   ]
  },
  {
   "cell_type": "code",
   "execution_count": 1,
   "id": "f89e7b48",
   "metadata": {},
   "outputs": [
    {
     "name": "stdout",
     "output_type": "stream",
     "text": [
      "13\n"
     ]
    }
   ],
   "source": [
    "def q(a,b):       \n",
    "    c = int(a+b)\n",
    "    print(c)\n",
    "q(6,7)"
   ]
  },
  {
   "cell_type": "code",
   "execution_count": null,
   "id": "c9f2bc90",
   "metadata": {},
   "outputs": [],
   "source": []
  }
 ],
 "metadata": {
  "kernelspec": {
   "display_name": "Python 3",
   "language": "python",
   "name": "python3"
  },
  "language_info": {
   "codemirror_mode": {
    "name": "ipython",
    "version": 3
   },
   "file_extension": ".py",
   "mimetype": "text/x-python",
   "name": "python",
   "nbconvert_exporter": "python",
   "pygments_lexer": "ipython3",
   "version": "3.8.8"
  }
 },
 "nbformat": 4,
 "nbformat_minor": 5
}
