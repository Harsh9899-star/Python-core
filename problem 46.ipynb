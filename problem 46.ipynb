{
 "cells": [
  {
   "cell_type": "markdown",
   "id": "203a1a99",
   "metadata": {},
   "source": [
    "## Write a program which accepts a sequence of words separated by whitespace as input to print the words composed of digits only. \n",
    "If the following words are given as input to the program: 2 cats and 3 dogs. \n",
    "Then, the output of the program should be: ['2', '3'] \n",
    "In case of input data being supplied to the question, it should be assumed to be a console input. \n",
    "\n"
   ]
  },
  {
   "cell_type": "code",
   "execution_count": 1,
   "id": "dc1d9e0b",
   "metadata": {},
   "outputs": [
    {
     "name": "stdout",
     "output_type": "stream",
     "text": [
      "2 cats 3 dogs\n",
      "['2', '3']\n"
     ]
    }
   ],
   "source": [
    "s=input()\n",
    "c=[]\n",
    "for i in s:\n",
    "    if(i.isdigit()==True):  \n",
    "        c.append(i)\n",
    "print(c)"
   ]
  },
  {
   "cell_type": "code",
   "execution_count": null,
   "id": "3400774a",
   "metadata": {},
   "outputs": [],
   "source": []
  }
 ],
 "metadata": {
  "kernelspec": {
   "display_name": "Python 3",
   "language": "python",
   "name": "python3"
  },
  "language_info": {
   "codemirror_mode": {
    "name": "ipython",
    "version": 3
   },
   "file_extension": ".py",
   "mimetype": "text/x-python",
   "name": "python",
   "nbconvert_exporter": "python",
   "pygments_lexer": "ipython3",
   "version": "3.8.8"
  }
 },
 "nbformat": 4,
 "nbformat_minor": 5
}
