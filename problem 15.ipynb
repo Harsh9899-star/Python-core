{
 "cells": [
  {
   "cell_type": "markdown",
   "id": "e42b2194",
   "metadata": {},
   "source": [
    "### Define a function that can convert a integer into a string and print it in console"
   ]
  },
  {
   "cell_type": "code",
   "execution_count": 1,
   "id": "1cdb0ecb",
   "metadata": {},
   "outputs": [
    {
     "name": "stdout",
     "output_type": "stream",
     "text": [
      "enter the integer you want to convert into string:5\n",
      "5\n",
      "<class 'str'>\n"
     ]
    }
   ],
   "source": [
    "def b():\n",
    "    s=int(input(\"enter the integer you want to convert into string:\"))\n",
    "    s = str(s)\n",
    "    print(s)            \n",
    "    print(type(s))\n",
    "b()"
   ]
  },
  {
   "cell_type": "code",
   "execution_count": null,
   "id": "f89e7b48",
   "metadata": {},
   "outputs": [],
   "source": []
  }
 ],
 "metadata": {
  "kernelspec": {
   "display_name": "Python 3",
   "language": "python",
   "name": "python3"
  },
  "language_info": {
   "codemirror_mode": {
    "name": "ipython",
    "version": 3
   },
   "file_extension": ".py",
   "mimetype": "text/x-python",
   "name": "python",
   "nbconvert_exporter": "python",
   "pygments_lexer": "ipython3",
   "version": "3.8.8"
  }
 },
 "nbformat": 4,
 "nbformat_minor": 5
}
