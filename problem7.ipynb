{
 "cells": [
  {
   "cell_type": "markdown",
   "id": "01b677bc",
   "metadata": {},
   "source": [
    "## Write a program that calculates and prints the value according to the given formula: \n",
    "Q = Square root of [(2 * C * D)/H] \n",
    "Following are the fixed values of C and H: C is 50. H is 30. \n",
    "D is the variable whose values should be input to your program in a comma-separated sequence. \n"
   ]
  },
  {
   "cell_type": "code",
   "execution_count": 1,
   "id": "6a24860c",
   "metadata": {},
   "outputs": [
    {
     "name": "stdout",
     "output_type": "stream",
     "text": [
      "22.360679774997898\n",
      "18.257418583505537\n",
      "25.81988897471611\n"
     ]
    }
   ],
   "source": [
    "import math\n",
    "def pro(d):\n",
    "    for i in d:\n",
    "        c = 50     \n",
    "        h = 30\n",
    "        q = math.sqrt((2*c*i)/h)\n",
    "        math.floor(q)\n",
    "        print(q)\n",
    "pro([150,100,200])"
   ]
  },
  {
   "cell_type": "code",
   "execution_count": null,
   "id": "e54c0def",
   "metadata": {},
   "outputs": [],
   "source": []
  }
 ],
 "metadata": {
  "kernelspec": {
   "display_name": "Python 3",
   "language": "python",
   "name": "python3"
  },
  "language_info": {
   "codemirror_mode": {
    "name": "ipython",
    "version": 3
   },
   "file_extension": ".py",
   "mimetype": "text/x-python",
   "name": "python",
   "nbconvert_exporter": "python",
   "pygments_lexer": "ipython3",
   "version": "3.8.8"
  }
 },
 "nbformat": 4,
 "nbformat_minor": 5
}
