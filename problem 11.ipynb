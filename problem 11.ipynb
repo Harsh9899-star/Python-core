{
 "cells": [
  {
   "cell_type": "markdown",
   "id": "a7626eab",
   "metadata": {},
   "source": [
    "### 25. Define a class, which have a class parameter and have a same instance parameter.  \n",
    " \n",
    "\n"
   ]
  },
  {
   "cell_type": "code",
   "execution_count": 1,
   "id": "8c9d1901",
   "metadata": {},
   "outputs": [
    {
     "name": "stdout",
     "output_type": "stream",
     "text": [
      "Harsh\n"
     ]
    }
   ],
   "source": [
    "class insaan:\n",
    "    def __init__(self,name):   #25\n",
    "        self.name=name\n",
    "        print(self.name)\n",
    "obj = insaan(\"Harsh\")"
   ]
  },
  {
   "cell_type": "code",
   "execution_count": null,
   "id": "349a915f",
   "metadata": {},
   "outputs": [],
   "source": []
  }
 ],
 "metadata": {
  "kernelspec": {
   "display_name": "Python 3",
   "language": "python",
   "name": "python3"
  },
  "language_info": {
   "codemirror_mode": {
    "name": "ipython",
    "version": 3
   },
   "file_extension": ".py",
   "mimetype": "text/x-python",
   "name": "python",
   "nbconvert_exporter": "python",
   "pygments_lexer": "ipython3",
   "version": "3.8.8"
  }
 },
 "nbformat": 4,
 "nbformat_minor": 5
}
