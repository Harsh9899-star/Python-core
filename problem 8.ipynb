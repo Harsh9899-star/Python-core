{
 "cells": [
  {
   "cell_type": "markdown",
   "id": "39451480",
   "metadata": {},
   "source": [
    "###  Define a class with a generator which can iterate the numbers, which are divisible by 7, between a given range 0 and n. "
   ]
  },
  {
   "cell_type": "code",
   "execution_count": 1,
   "id": "1ef80b98",
   "metadata": {},
   "outputs": [
    {
     "data": {
      "text/plain": [
       "<generator object div.d at 0x000001C83A89A890>"
      ]
     },
     "execution_count": 1,
     "metadata": {},
     "output_type": "execute_result"
    }
   ],
   "source": [
    "class div:               \n",
    "    def __init__(self):\n",
    "        pass\n",
    "    def d(self):\n",
    "        for i in range(0,100):\n",
    "            if(i%7==0):\n",
    "                yield i\n",
    "obj=div()\n",
    "obj.d()\n",
    "        "
   ]
  },
  {
   "cell_type": "code",
   "execution_count": 2,
   "id": "d6e8a484",
   "metadata": {},
   "outputs": [],
   "source": [
    "a=iter(obj.d())"
   ]
  },
  {
   "cell_type": "code",
   "execution_count": 6,
   "id": "6c44eb80",
   "metadata": {},
   "outputs": [
    {
     "data": {
      "text/plain": [
       "21"
      ]
     },
     "execution_count": 6,
     "metadata": {},
     "output_type": "execute_result"
    }
   ],
   "source": [
    "next(a)"
   ]
  },
  {
   "cell_type": "code",
   "execution_count": null,
   "id": "948cb182",
   "metadata": {},
   "outputs": [],
   "source": []
  }
 ],
 "metadata": {
  "kernelspec": {
   "display_name": "Python 3",
   "language": "python",
   "name": "python3"
  },
  "language_info": {
   "codemirror_mode": {
    "name": "ipython",
    "version": 3
   },
   "file_extension": ".py",
   "mimetype": "text/x-python",
   "name": "python",
   "nbconvert_exporter": "python",
   "pygments_lexer": "ipython3",
   "version": "3.8.8"
  }
 },
 "nbformat": 4,
 "nbformat_minor": 5
}
