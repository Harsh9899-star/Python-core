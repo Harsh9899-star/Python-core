{
 "cells": [
  {
   "cell_type": "markdown",
   "id": "203a1a99",
   "metadata": {},
   "source": [
    "## Write a program to compute the frequency of the words from the input. The output should output after sorting the key alphanumerically. \n",
    "Suppose the input is supplied to the program: \n",
    "New to Python or choosing between Python 2 and Python 3? Read Python 2 or Python 3. \n",
    "Then, the output should be: \n",
    "2:2 \n",
    "3.:1 \n",
    "3?:1 \n",
    "New:1 \n",
    "Python:5 \n",
    "Read:1 \n",
    "and:1 \n",
    "between:1 \n",
    "choosing:1 \n",
    "or:2 \n",
    "to:1. \n"
   ]
  },
  {
   "cell_type": "code",
   "execution_count": 1,
   "id": "dc1d9e0b",
   "metadata": {},
   "outputs": [
    {
     "name": "stdout",
     "output_type": "stream",
     "text": [
      "enter the sentence:python 2 python 3 python 2 3 \n"
     ]
    },
    {
     "data": {
      "text/plain": [
       "{'python': 3, '2': 2, '3': 2}"
      ]
     },
     "execution_count": 1,
     "metadata": {},
     "output_type": "execute_result"
    }
   ],
   "source": [
    "s = input(\"enter the sentence:\")\n",
    "r = s.split()      \n",
    "{x:r.count(x) for x in r}"
   ]
  },
  {
   "cell_type": "code",
   "execution_count": null,
   "id": "3400774a",
   "metadata": {},
   "outputs": [],
   "source": []
  }
 ],
 "metadata": {
  "kernelspec": {
   "display_name": "Python 3",
   "language": "python",
   "name": "python3"
  },
  "language_info": {
   "codemirror_mode": {
    "name": "ipython",
    "version": 3
   },
   "file_extension": ".py",
   "mimetype": "text/x-python",
   "name": "python",
   "nbconvert_exporter": "python",
   "pygments_lexer": "ipython3",
   "version": "3.8.8"
  }
 },
 "nbformat": 4,
 "nbformat_minor": 5
}
