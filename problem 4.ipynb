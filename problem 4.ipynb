{
 "cells": [
  {
   "cell_type": "markdown",
   "id": "0a158389",
   "metadata": {},
   "source": [
    "### 4. Write a program which accepts a sequence of comma-separated numbers from console and generate a list and a tuple which contains every number"
   ]
  },
  {
   "cell_type": "code",
   "execution_count": 2,
   "id": "920d5e77",
   "metadata": {},
   "outputs": [
    {
     "name": "stdout",
     "output_type": "stream",
     "text": [
      "enter the words:34, 67, 55, 33, 12, 98 \n",
      "['34', ' 67', ' 55', ' 33', ' 12', ' 98 ']\n",
      "('34', ' 67', ' 55', ' 33', ' 12', ' 98 ')\n"
     ]
    }
   ],
   "source": [
    "s = input(\"enter the words:\").split(\",\")   #4\n",
    "p = tuple(s)\n",
    "print(s)\n",
    "print(p)"
   ]
  },
  {
   "cell_type": "code",
   "execution_count": null,
   "id": "9bcde5fe",
   "metadata": {},
   "outputs": [],
   "source": []
  }
 ],
 "metadata": {
  "kernelspec": {
   "display_name": "Python 3",
   "language": "python",
   "name": "python3"
  },
  "language_info": {
   "codemirror_mode": {
    "name": "ipython",
    "version": 3
   },
   "file_extension": ".py",
   "mimetype": "text/x-python",
   "name": "python",
   "nbconvert_exporter": "python",
   "pygments_lexer": "ipython3",
   "version": "3.8.8"
  }
 },
 "nbformat": 4,
 "nbformat_minor": 5
}
