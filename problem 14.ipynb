{
 "cells": [
  {
   "cell_type": "markdown",
   "id": "3016012d",
   "metadata": {},
   "source": [
    "### Define a function that can convert a integer into a string and print it in console."
   ]
  },
  {
   "cell_type": "code",
   "execution_count": 1,
   "id": "35c8d79d",
   "metadata": {},
   "outputs": [
    {
     "name": "stdout",
     "output_type": "stream",
     "text": [
      "<class 'str'>\n",
      "6 7\n"
     ]
    }
   ],
   "source": [
    "def s(a,b):    \n",
    "    a = str(a)\n",
    "    b = str(b)\n",
    "    print(type(a))\n",
    "    print(a,b)\n",
    "s(6,7)"
   ]
  },
  {
   "cell_type": "code",
   "execution_count": null,
   "id": "72fadeea",
   "metadata": {},
   "outputs": [],
   "source": []
  }
 ],
 "metadata": {
  "kernelspec": {
   "display_name": "Python 3",
   "language": "python",
   "name": "python3"
  },
  "language_info": {
   "codemirror_mode": {
    "name": "ipython",
    "version": 3
   },
   "file_extension": ".py",
   "mimetype": "text/x-python",
   "name": "python",
   "nbconvert_exporter": "python",
   "pygments_lexer": "ipython3",
   "version": "3.8.8"
  }
 },
 "nbformat": 4,
 "nbformat_minor": 5
}
