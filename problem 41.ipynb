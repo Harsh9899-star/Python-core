{
 "cells": [
  {
   "cell_type": "markdown",
   "id": "203a1a99",
   "metadata": {},
   "source": [
    "## Define a class named Rectangle which can be constructed by a length and width. The Rectangle class has a method which can compute the area.  "
   ]
  },
  {
   "cell_type": "code",
   "execution_count": 1,
   "id": "dc1d9e0b",
   "metadata": {},
   "outputs": [
    {
     "name": "stdout",
     "output_type": "stream",
     "text": [
      "enter the length:5\n",
      "enter the breath6\n",
      "area of reactangle is 30\n"
     ]
    }
   ],
   "source": [
    "class rectangle:\n",
    "    def __init__(self):\n",
    "        self.length = int(input(\"enter the length:\"))\n",
    "        self.breath = int(input(\"enter the breath\"))\n",
    "    def area(self):\n",
    "        self.area = self.length*self.breath           #53\n",
    "        print(\"area of reactangle is\",self.area)\n",
    "obj = rectangle()\n",
    "obj.area()\n",
    "        "
   ]
  },
  {
   "cell_type": "code",
   "execution_count": null,
   "id": "3400774a",
   "metadata": {},
   "outputs": [],
   "source": []
  }
 ],
 "metadata": {
  "kernelspec": {
   "display_name": "Python 3",
   "language": "python",
   "name": "python3"
  },
  "language_info": {
   "codemirror_mode": {
    "name": "ipython",
    "version": 3
   },
   "file_extension": ".py",
   "mimetype": "text/x-python",
   "name": "python",
   "nbconvert_exporter": "python",
   "pygments_lexer": "ipython3",
   "version": "3.8.8"
  }
 },
 "nbformat": 4,
 "nbformat_minor": 5
}
