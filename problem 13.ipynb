{
 "cells": [
  {
   "cell_type": "markdown",
   "id": "19a38aa9",
   "metadata": {},
   "source": [
    "### Define a function which can compute the sum of two numbers. "
   ]
  },
  {
   "cell_type": "code",
   "execution_count": 1,
   "id": "11729258",
   "metadata": {},
   "outputs": [
    {
     "data": {
      "text/plain": [
       "16"
      ]
     },
     "execution_count": 1,
     "metadata": {},
     "output_type": "execute_result"
    }
   ],
   "source": [
    "def s(a,b):    \n",
    "    s = a+b\n",
    "    return s\n",
    "s(7,9)"
   ]
  },
  {
   "cell_type": "code",
   "execution_count": null,
   "id": "48b15360",
   "metadata": {},
   "outputs": [],
   "source": []
  }
 ],
 "metadata": {
  "kernelspec": {
   "display_name": "Python 3",
   "language": "python",
   "name": "python3"
  },
  "language_info": {
   "codemirror_mode": {
    "name": "ipython",
    "version": 3
   },
   "file_extension": ".py",
   "mimetype": "text/x-python",
   "name": "python",
   "nbconvert_exporter": "python",
   "pygments_lexer": "ipython3",
   "version": "3.8.8"
  }
 },
 "nbformat": 4,
 "nbformat_minor": 5
}
