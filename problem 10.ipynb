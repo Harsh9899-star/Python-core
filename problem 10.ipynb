{
 "cells": [
  {
   "cell_type": "markdown",
   "id": "a7626eab",
   "metadata": {},
   "source": [
    "### Define a class which has at least two methods: \n",
    "#### getString: to get a string from console input \n",
    "#### printString: to print the string in upper case. \n",
    "Also please include simple test function to test the class methods. \n",
    " \n",
    "\n"
   ]
  },
  {
   "cell_type": "code",
   "execution_count": 1,
   "id": "bf9bf0a9",
   "metadata": {},
   "outputs": [
    {
     "name": "stdout",
     "output_type": "stream",
     "text": [
      "enter the string:hello this is harsh\n",
      "hello this is harsh\n",
      "HELLO THIS IS HARSH\n"
     ]
    }
   ],
   "source": [
    "class string:\n",
    "    def __init__(self):\n",
    "        pass\n",
    "    def getstring(self):   #5\n",
    "        global s\n",
    "        s = input(\"enter the string:\")\n",
    "        print(s) \n",
    "    def printstring(self):\n",
    "        print(s.upper())\n",
    "obj = string()\n",
    "obj.getstring()\n",
    "obj.printstring()"
   ]
  },
  {
   "cell_type": "code",
   "execution_count": null,
   "id": "8c9d1901",
   "metadata": {},
   "outputs": [],
   "source": []
  }
 ],
 "metadata": {
  "kernelspec": {
   "display_name": "Python 3",
   "language": "python",
   "name": "python3"
  },
  "language_info": {
   "codemirror_mode": {
    "name": "ipython",
    "version": 3
   },
   "file_extension": ".py",
   "mimetype": "text/x-python",
   "name": "python",
   "nbconvert_exporter": "python",
   "pygments_lexer": "ipython3",
   "version": "3.8.8"
  }
 },
 "nbformat": 4,
 "nbformat_minor": 5
}
