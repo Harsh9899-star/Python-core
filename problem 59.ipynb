{
 "cells": [
  {
   "cell_type": "markdown",
   "id": "203a1a99",
   "metadata": {},
   "source": [
    "## Please write a program to generate all sentences where subject is in [\"I\", \"You\"] and verb is in [\"Play\", \"Love\"] and the object is in [\"Hockey\",\"Football\"]. "
   ]
  },
  {
   "cell_type": "code",
   "execution_count": 1,
   "id": "dc1d9e0b",
   "metadata": {},
   "outputs": [
    {
     "name": "stdout",
     "output_type": "stream",
     "text": [
      "I Play Hockey\n",
      "I Play Football\n",
      "I Love Hockey\n",
      "I Love Football\n",
      "You Play Hockey\n",
      "You Play Football\n",
      "You Love Hockey\n",
      "You Love Football\n"
     ]
    }
   ],
   "source": [
    "sub=['I','You']\n",
    "verb=['Play','Love']\n",
    "obj=['Hockey','Football']\n",
    "for i in sub:                   \n",
    "    for j in verb:\n",
    "        for k in obj:\n",
    "            c=i+' '+j+\" \"+k\n",
    "            print(c)"
   ]
  },
  {
   "cell_type": "code",
   "execution_count": null,
   "id": "4b0bb3a2",
   "metadata": {},
   "outputs": [],
   "source": []
  },
  {
   "cell_type": "code",
   "execution_count": null,
   "id": "f01716a4",
   "metadata": {},
   "outputs": [],
   "source": []
  }
 ],
 "metadata": {
  "kernelspec": {
   "display_name": "Python 3",
   "language": "python",
   "name": "python3"
  },
  "language_info": {
   "codemirror_mode": {
    "name": "ipython",
    "version": 3
   },
   "file_extension": ".py",
   "mimetype": "text/x-python",
   "name": "python",
   "nbconvert_exporter": "python",
   "pygments_lexer": "ipython3",
   "version": "3.8.8"
  }
 },
 "nbformat": 4,
 "nbformat_minor": 5
}
