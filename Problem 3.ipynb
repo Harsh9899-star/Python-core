{
 "cells": [
  {
   "cell_type": "markdown",
   "id": "55cca8e8",
   "metadata": {},
   "source": [
    "### Q. Write a program that computes the net amount of a bank account based a transaction log from console input. The transaction log format is shown as following: \n",
    "D 100 \n",
    "W 200 \n",
    "--D means deposit while W means withdrawal. \n"
   ]
  },
  {
   "cell_type": "code",
   "execution_count": 1,
   "id": "2a8a812f",
   "metadata": {},
   "outputs": [
    {
     "name": "stdout",
     "output_type": "stream",
     "text": [
      "you have 0 amount of money in your account\n",
      "what do you want deposite money or withdraw money:deposite money\n",
      "how much money you want to deposite:400\n",
      "what do you want deposite money or withdraw money:withdraw money\n",
      "how much money you want to withdraw200\n",
      "what do you want deposite money or withdraw money:\n",
      "you have 200 rs in your account\n"
     ]
    }
   ],
   "source": [
    "d = 0      \n",
    "print(\"you have {} amount of money in your account\".format(d))\n",
    "while True:\n",
    "    p = input(\"what do you want deposite money or withdraw money:\")\n",
    "    if p:\n",
    "        if(p == \"deposite money\"):\n",
    "            n = int(input(\"how much money you want to deposite:\"))\n",
    "            d=d+n\n",
    "        elif(p==\"withdraw money\"):\n",
    "            s = int(input(\"how much money you want to withdraw\"))\n",
    "            d = d-s\n",
    "    else:\n",
    "        break\n",
    "print(\"you have {} rs in your account\".format(d))"
   ]
  },
  {
   "cell_type": "code",
   "execution_count": null,
   "id": "920d5e77",
   "metadata": {},
   "outputs": [],
   "source": []
  }
 ],
 "metadata": {
  "kernelspec": {
   "display_name": "Python 3",
   "language": "python",
   "name": "python3"
  },
  "language_info": {
   "codemirror_mode": {
    "name": "ipython",
    "version": 3
   },
   "file_extension": ".py",
   "mimetype": "text/x-python",
   "name": "python",
   "nbconvert_exporter": "python",
   "pygments_lexer": "ipython3",
   "version": "3.8.8"
  }
 },
 "nbformat": 4,
 "nbformat_minor": 5
}
