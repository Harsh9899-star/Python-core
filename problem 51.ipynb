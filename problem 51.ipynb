{
 "cells": [
  {
   "cell_type": "markdown",
   "id": "203a1a99",
   "metadata": {},
   "source": [
    "## Please write a program which count and print the numbers of each character in a string input by console. \n",
    "If the following string is given as input to the program: abcdefgabc \n",
    "Then, the output of the program should be: \n",
    "a,2 \n",
    "c,2 \n",
    "b,2 \n",
    "e,1 \n",
    "d,1 \n",
    "g,1 \n",
    "f,1 \n"
   ]
  },
  {
   "cell_type": "code",
   "execution_count": 1,
   "id": "dc1d9e0b",
   "metadata": {},
   "outputs": [
    {
     "name": "stdout",
     "output_type": "stream",
     "text": [
      "enter the string:jhgrsrtsghcg\n"
     ]
    },
    {
     "data": {
      "text/plain": [
       "{'j': 1, 'h': 2, 'g': 3, 'r': 2, 's': 2, 't': 1, 'c': 1}"
      ]
     },
     "execution_count": 1,
     "metadata": {},
     "output_type": "execute_result"
    }
   ],
   "source": [
    "d = input(\"enter the string:\")\n",
    "{i:d.count(i) for i in d} "
   ]
  },
  {
   "cell_type": "code",
   "execution_count": null,
   "id": "b241242b",
   "metadata": {},
   "outputs": [],
   "source": []
  }
 ],
 "metadata": {
  "kernelspec": {
   "display_name": "Python 3",
   "language": "python",
   "name": "python3"
  },
  "language_info": {
   "codemirror_mode": {
    "name": "ipython",
    "version": 3
   },
   "file_extension": ".py",
   "mimetype": "text/x-python",
   "name": "python",
   "nbconvert_exporter": "python",
   "pygments_lexer": "ipython3",
   "version": "3.8.8"
  }
 },
 "nbformat": 4,
 "nbformat_minor": 5
}
