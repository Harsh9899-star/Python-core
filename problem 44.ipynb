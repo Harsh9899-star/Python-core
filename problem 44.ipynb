{
 "cells": [
  {
   "cell_type": "markdown",
   "id": "203a1a99",
   "metadata": {},
   "source": [
    "## Assuming that we have some email addresses in the \"username@companyname.com\" format, please write program to print the company name of a given email address. Both user names and company names are composed of letters only. \n",
    "If the following email address is given as input to the program: Chandra@analytixlabs.com \n",
    "Then, the output of the program should be: analytixlabs \n",
    "In case of input data being supplied to the question, it should be assumed to be a console input.\n"
   ]
  },
  {
   "cell_type": "code",
   "execution_count": 1,
   "id": "dc1d9e0b",
   "metadata": {},
   "outputs": [
    {
     "name": "stdout",
     "output_type": "stream",
     "text": [
      "enter the email adress:chandra@analytixlabs.com\n"
     ]
    },
    {
     "data": {
      "text/plain": [
       "'analytixlabs'"
      ]
     },
     "execution_count": 1,
     "metadata": {},
     "output_type": "execute_result"
    }
   ],
   "source": [
    "w = input(\"enter the email adress:\")\n",
    "b = w.index(\"@\")\n",
    "c = w.index(\".\")\n",
    "w[b+1:c]                #58\n"
   ]
  },
  {
   "cell_type": "code",
   "execution_count": null,
   "id": "3400774a",
   "metadata": {},
   "outputs": [],
   "source": []
  }
 ],
 "metadata": {
  "kernelspec": {
   "display_name": "Python 3",
   "language": "python",
   "name": "python3"
  },
  "language_info": {
   "codemirror_mode": {
    "name": "ipython",
    "version": 3
   },
   "file_extension": ".py",
   "mimetype": "text/x-python",
   "name": "python",
   "nbconvert_exporter": "python",
   "pygments_lexer": "ipython3",
   "version": "3.8.8"
  }
 },
 "nbformat": 4,
 "nbformat_minor": 5
}
