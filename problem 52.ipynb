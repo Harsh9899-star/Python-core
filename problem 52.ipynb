{
 "cells": [
  {
   "cell_type": "markdown",
   "id": "203a1a99",
   "metadata": {},
   "source": [
    "## Define a class Person and its two child classes: Male and Female. All classes have a method \"getGender\" which can print \"Male\" for Male class and \"Female\" for Female class. "
   ]
  },
  {
   "cell_type": "code",
   "execution_count": 1,
   "id": "dc1d9e0b",
   "metadata": {},
   "outputs": [
    {
     "name": "stdout",
     "output_type": "stream",
     "text": [
      "female\n"
     ]
    }
   ],
   "source": [
    "class person:\n",
    "    def __init__(self):\n",
    "        pass\n",
    "class male(person):\n",
    "    def getgender(self):\n",
    "        self.gender = male\n",
    "        print(\"male\")\n",
    "class female(person):\n",
    "    def getgender(self):\n",
    "        self.gender = female\n",
    "        print(\"female\")\n",
    "obj = male()\n",
    "obj1 = female()\n",
    "obj1.getgender()\n",
    "\n",
    "        \n",
    "        \n",
    "        \n",
    "        \n",
    "    "
   ]
  },
  {
   "cell_type": "code",
   "execution_count": null,
   "id": "b241242b",
   "metadata": {},
   "outputs": [],
   "source": []
  }
 ],
 "metadata": {
  "kernelspec": {
   "display_name": "Python 3",
   "language": "python",
   "name": "python3"
  },
  "language_info": {
   "codemirror_mode": {
    "name": "ipython",
    "version": 3
   },
   "file_extension": ".py",
   "mimetype": "text/x-python",
   "name": "python",
   "nbconvert_exporter": "python",
   "pygments_lexer": "ipython3",
   "version": "3.8.8"
  }
 },
 "nbformat": 4,
 "nbformat_minor": 5
}
