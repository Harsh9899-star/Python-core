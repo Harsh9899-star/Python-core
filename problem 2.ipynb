{
 "cells": [
  {
   "cell_type": "markdown",
   "id": "e968bb62",
   "metadata": {},
   "source": [
    "### Q. Write a program which can compute the factorial of a given numbers. The results should be printed in a comma-separated sequence on a single line. "
   ]
  },
  {
   "cell_type": "code",
   "execution_count": null,
   "id": "fd8ea955",
   "metadata": {},
   "outputs": [],
   "source": [
    "fac=1     \n",
    "n = int(input('enter the number'))\n",
    "for i in range(1,n+1):\n",
    "    fac = fac*i\n",
    "print(fac)\n",
    "    "
   ]
  }
 ],
 "metadata": {
  "kernelspec": {
   "display_name": "Python 3",
   "language": "python",
   "name": "python3"
  },
  "language_info": {
   "codemirror_mode": {
    "name": "ipython",
    "version": 3
   },
   "file_extension": ".py",
   "mimetype": "text/x-python",
   "name": "python",
   "nbconvert_exporter": "python",
   "pygments_lexer": "ipython3",
   "version": "3.8.8"
  }
 },
 "nbformat": 4,
 "nbformat_minor": 5
}
