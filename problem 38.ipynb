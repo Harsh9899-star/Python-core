{
 "cells": [
  {
   "cell_type": "markdown",
   "id": "203a1a99",
   "metadata": {},
   "source": [
    "## Define a class named American which has a static method called printNationality. "
   ]
  },
  {
   "cell_type": "code",
   "execution_count": 2,
   "id": "dc1d9e0b",
   "metadata": {},
   "outputs": [
    {
     "name": "stdout",
     "output_type": "stream",
     "text": [
      "the nationality is american\n"
     ]
    }
   ],
   "source": [
    "class american():\n",
    "    def __init__(self):\n",
    "        pass               \n",
    "    @staticmethod\n",
    "    def print_nationality(nationality):\n",
    "        print(\"the nationality is\",nationality)\n",
    "obj = american()\n",
    "obj.print_nationality(\"american\")\n",
    "    "
   ]
  },
  {
   "cell_type": "code",
   "execution_count": null,
   "id": "3400774a",
   "metadata": {},
   "outputs": [],
   "source": []
  }
 ],
 "metadata": {
  "kernelspec": {
   "display_name": "Python 3",
   "language": "python",
   "name": "python3"
  },
  "language_info": {
   "codemirror_mode": {
    "name": "ipython",
    "version": 3
   },
   "file_extension": ".py",
   "mimetype": "text/x-python",
   "name": "python",
   "nbconvert_exporter": "python",
   "pygments_lexer": "ipython3",
   "version": "3.8.8"
  }
 },
 "nbformat": 4,
 "nbformat_minor": 5
}
