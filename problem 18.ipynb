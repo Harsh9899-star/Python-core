{
 "cells": [
  {
   "cell_type": "markdown",
   "id": "e42b2194",
   "metadata": {},
   "source": [
    "### Define a function that can accept two strings as input and print the string with maximum length in console. If two strings have the same length, then the function should print al l strings line by line"
   ]
  },
  {
   "cell_type": "code",
   "execution_count": 1,
   "id": "c9f2bc90",
   "metadata": {},
   "outputs": [
    {
     "name": "stdout",
     "output_type": "stream",
     "text": [
      "enter the first string:yes\n",
      "enter the second string:hey\n",
      "yes\n",
      "hey\n"
     ]
    }
   ],
   "source": [
    "def fun():     \n",
    "    a = input(\"enter the first string:\")\n",
    "    b = input(\"enter the second string:\")\n",
    "    if(len(a)>len(b)):\n",
    "        print(\"maximum length:\",a)\n",
    "    elif(len(a)==len(b)):\n",
    "        print(a)\n",
    "        print(b)\n",
    "    else:\n",
    "        print(\"maximum lenth:\",b)\n",
    "        \n",
    "    \n",
    "fun()"
   ]
  },
  {
   "cell_type": "code",
   "execution_count": null,
   "id": "23d6103c",
   "metadata": {},
   "outputs": [],
   "source": []
  }
 ],
 "metadata": {
  "kernelspec": {
   "display_name": "Python 3",
   "language": "python",
   "name": "python3"
  },
  "language_info": {
   "codemirror_mode": {
    "name": "ipython",
    "version": 3
   },
   "file_extension": ".py",
   "mimetype": "text/x-python",
   "name": "python",
   "nbconvert_exporter": "python",
   "pygments_lexer": "ipython3",
   "version": "3.8.8"
  }
 },
 "nbformat": 4,
 "nbformat_minor": 5
}
