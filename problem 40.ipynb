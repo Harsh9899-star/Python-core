{
 "cells": [
  {
   "cell_type": "markdown",
   "id": "203a1a99",
   "metadata": {},
   "source": [
    "## Define a class named Circle which can be constructed by a radius. The Circle class has a method which can compute the area. "
   ]
  },
  {
   "cell_type": "code",
   "execution_count": 1,
   "id": "dc1d9e0b",
   "metadata": {},
   "outputs": [
    {
     "name": "stdout",
     "output_type": "stream",
     "text": [
      "enter the radius:5\n",
      "the area of circle is: 78.5\n"
     ]
    }
   ],
   "source": [
    "class circle():\n",
    "    def __init__(self,pie):\n",
    "        self.radius =int(input(\"enter the radius:\"))        \n",
    "        self.pie = pie\n",
    "        self.area = pie*self.radius**2\n",
    "    def name(self):\n",
    "        print(\"the area of circle is:\",self.area)\n",
    "obj = circle(3.14)\n",
    "obj.name()"
   ]
  },
  {
   "cell_type": "code",
   "execution_count": null,
   "id": "3400774a",
   "metadata": {},
   "outputs": [],
   "source": []
  }
 ],
 "metadata": {
  "kernelspec": {
   "display_name": "Python 3",
   "language": "python",
   "name": "python3"
  },
  "language_info": {
   "codemirror_mode": {
    "name": "ipython",
    "version": 3
   },
   "file_extension": ".py",
   "mimetype": "text/x-python",
   "name": "python",
   "nbconvert_exporter": "python",
   "pygments_lexer": "ipython3",
   "version": "3.8.8"
  }
 },
 "nbformat": 4,
 "nbformat_minor": 5
}
