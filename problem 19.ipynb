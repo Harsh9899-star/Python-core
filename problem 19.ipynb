{
 "cells": [
  {
   "cell_type": "markdown",
   "id": "e42b2194",
   "metadata": {},
   "source": [
    "### Define a function that can accept an integer number as input and print the \"It is an even number\" if the number is even, otherwise print \"It is an odd number\". "
   ]
  },
  {
   "cell_type": "code",
   "execution_count": 1,
   "id": "23d6103c",
   "metadata": {},
   "outputs": [
    {
     "name": "stdout",
     "output_type": "stream",
     "text": [
      "enter the number you want to check weather it is odd or even:5\n",
      "it is an odd number\n"
     ]
    }
   ],
   "source": [
    "def chk():    \n",
    "    n = int(input(\"enter the number you want to check weather it is odd or even:\"))\n",
    "    if(n%2==0):\n",
    "        print(\"it is an even number\")\n",
    "    else:\n",
    "        print(\"it is an odd number\")\n",
    "chk()"
   ]
  },
  {
   "cell_type": "code",
   "execution_count": null,
   "id": "9c3a1015",
   "metadata": {},
   "outputs": [],
   "source": []
  }
 ],
 "metadata": {
  "kernelspec": {
   "display_name": "Python 3",
   "language": "python",
   "name": "python3"
  },
  "language_info": {
   "codemirror_mode": {
    "name": "ipython",
    "version": 3
   },
   "file_extension": ".py",
   "mimetype": "text/x-python",
   "name": "python",
   "nbconvert_exporter": "python",
   "pygments_lexer": "ipython3",
   "version": "3.8.8"
  }
 },
 "nbformat": 4,
 "nbformat_minor": 5
}
